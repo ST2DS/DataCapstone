{
  "cells": [
    {
      "cell_type": "code",
      "execution_count": 2,
      "metadata": {
        "id": "qfp6vb2ZvBFo"
      },
      "outputs": [],
      "source": [
        "import kss\n",
        "import torch\n",
        "from transformers import AutoModelForSeq2SeqLM, AutoTokenizer"
      ]
    },
    {
      "cell_type": "code",
      "execution_count": 5,
      "metadata": {
        "id": "kBalrRW-zLzd"
      },
      "outputs": [],
      "source": [
        "def standard_text_to_dialect_text(prompt):\n",
        "    with torch.no_grad():\n",
        "        splited_sentences = kss.split_sentences(prompt)\n",
        "        generated = []\n",
        "        for sentence in splited_sentences:\n",
        "            tokens = tokenizer.encode(sentence, return_tensors=\"pt\").to(\n",
        "                device=\"cuda\", non_blocking=True\n",
        "            )\n",
        "            gen_tokens = model.generate(\n",
        "                tokens, max_length=256, repetition_penalty=1.5\n",
        "            )\n",
        "            generated.append(\n",
        "                tokenizer.batch_decode(gen_tokens, skip_special_tokens=True)[0]\n",
        "            )\n",
        "    return ' '.join(generated)"
      ]
    },
    {
      "cell_type": "code",
      "execution_count": 6,
      "metadata": {
        "colab": {
          "base_uri": "https://localhost:8080/"
        },
        "id": "EbDDJJhRuofu",
        "outputId": "075cabf5-2905-416d-e35b-24155d66c2f3"
      },
      "outputs": [
        {
          "name": "stdout",
          "output_type": "stream",
          "text": [
            "텍스트를 입력하세요: 밥 많이 먹었니?\n",
            "사투리로 변환된 텍스트: 밥 많이 먹었나?\n"
          ]
        }
      ],
      "source": [
        "T2T_MODEL_NAME = \"dannykm/DialectKoUL2\"\n",
        "\n",
        "tokenizer = AutoTokenizer.from_pretrained(T2T_MODEL_NAME)\n",
        "model = AutoModelForSeq2SeqLM.from_pretrained(T2T_MODEL_NAME).to(device=\"cuda\")\n",
        "_ = model.eval()\n",
        "\n",
        "prompt = input(\"텍스트를 입력하세요: \")\n",
        "dialect_text = standard_text_to_dialect_text(prompt)\n",
        "print(f\"사투리로 변환된 텍스트: {dialect_text}\")\n",
        "\n",
        "# 이후로 wav 파일 나오게 해주시면 감사하겠습니다!"
      ]
    }
  ],
  "metadata": {
    "accelerator": "GPU",
    "colab": {
      "gpuType": "T4",
      "provenance": []
    },
    "kernelspec": {
      "display_name": "Python 3",
      "name": "python3"
    },
    "language_info": {
      "name": "python"
    }
  },
  "nbformat": 4,
  "nbformat_minor": 0
}
